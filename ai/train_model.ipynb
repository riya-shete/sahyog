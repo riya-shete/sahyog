{
 "cells": [
  {
   "cell_type": "code",
   "execution_count": null,
   "id": "0bf6fa81",
   "metadata": {
    "vscode": {
     "languageId": "plaintext"
    }
   },
   "outputs": [],
   "source": [
    "import pandas as pd\n",
    "from sklearn.ensemble import RandomForestClassifier\n",
    "import joblib\n",
    "\n",
    "# Fake data: Hb < 10 → Anemia\n",
    "data = pd.DataFrame({\"Hb\": [8, 9, 12, 15], \"label\": [1, 1, 0, 0]})\n",
    "model = RandomForestClassifier().fit(data[[\"Hb\"]], data[\"label\"])\n",
    "joblib.dump(model, \"model.pkl\")  # Save for FastAPI"
   ]
  }
 ],
 "metadata": {
  "language_info": {
   "name": "python"
  }
 },
 "nbformat": 4,
 "nbformat_minor": 5
}
