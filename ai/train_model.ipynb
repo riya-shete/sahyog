{
 "cells": [
  {
   "cell_type": "code",
   "execution_count": 3,
   "id": "0bf6fa81",
   "metadata": {},
   "outputs": [
    {
     "name": "stdout",
     "output_type": "stream",
     "text": [
      "Model saved as model.pkl\n"
     ]
    }
   ],
   "source": [
    "# Import libraries\n",
    "import pandas as pd\n",
    "from sklearn.ensemble import RandomForestClassifier\n",
    "import joblib\n",
    "\n",
    "# 1. Create dummy dataset (Hb < 10 → Anemia)\n",
    "data = pd.DataFrame({\n",
    "    \"Hb\": [7, 8, 9, 12, 13, 15],  # Hemoglobin levels\n",
    "    \"label\": [1, 1, 1, 0, 0, 0]    # 1=Anemia, 0=Normal\n",
    "})\n",
    "\n",
    "# 2. Train a simple model\n",
    "model = RandomForestClassifier()\n",
    "model.fit(data[[\"Hb\"]], data[\"label\"])\n",
    "\n",
    "# 3. Save the model\n",
    "joblib.dump(model, \"model.pkl\")\n",
    "print(\"Model saved as model.pkl\")"
   ]
  },
  {
   "cell_type": "code",
   "execution_count": null,
   "id": "c0180dba",
   "metadata": {},
   "outputs": [],
   "source": []
  }
 ],
 "metadata": {
  "kernelspec": {
   "display_name": "Python (backend-env)",
   "language": "python",
   "name": "backend-env"
  },
  "language_info": {
   "codemirror_mode": {
    "name": "ipython",
    "version": 3
   },
   "file_extension": ".py",
   "mimetype": "text/x-python",
   "name": "python",
   "nbconvert_exporter": "python",
   "pygments_lexer": "ipython3",
   "version": "3.12.3"
  }
 },
 "nbformat": 4,
 "nbformat_minor": 5
}
